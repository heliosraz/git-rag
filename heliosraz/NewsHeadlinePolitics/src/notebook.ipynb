{
 "cells": [
  {
   "cell_type": "markdown",
   "id": "795c2db1",
   "metadata": {},
   "source": [
    "# Political Specturm of New Headlines\n",
    "The purpose of this task is to predict whether news headlines hold political semantic value"
   ]
  },
  {
   "cell_type": "code",
   "execution_count": 1,
   "id": "a4ebe2fe",
   "metadata": {
    "scrolled": true
   },
   "outputs": [],
   "source": [
    "import model\n",
    "import numpy as np"
   ]
  },
  {
   "cell_type": "markdown",
   "id": "6b58fe86",
   "metadata": {},
   "source": [
    "We use a Naive Bayes model to predict which political alignment of the headline leans. The higher the probablity the higher the confidence in the prediction by the model. "
   ]
  },
  {
   "cell_type": "code",
   "execution_count": 2,
   "id": "29cbe709",
   "metadata": {
    "scrolled": true
   },
   "outputs": [
    {
     "name": "stdout",
     "output_type": "stream",
     "text": [
      "['nyt_headlines.csv', 'foxnews_headlines.csv', 'washingtonpost_headlines.csv', 'csmonitor_headlines.csv', 'nypost_headlines.csv', 'cnn_headlines.csv']\n"
     ]
    }
   ],
   "source": [
    "X=[]\n",
    "term_document_matrices,y=model.term_matrix()\n",
    "\n",
    "for i in term_document_matrices:\n",
    "    for j in i:\n",
    "        X.append(j)"
   ]
  },
  {
   "cell_type": "markdown",
   "id": "165aa0c5",
   "metadata": {},
   "source": [
    "Here is a test of the model. Above you can see the news outlets we scraped from. We intended on gavering more, but we unable to finish the scrapping."
   ]
  },
  {
   "cell_type": "code",
   "execution_count": 7,
   "id": "10b6f3e6",
   "metadata": {
    "scrolled": true
   },
   "outputs": [
    {
     "name": "stdout",
     "output_type": "stream",
     "text": [
      "predicting: 0, true value: -1\n",
      "predicting: 0, true value: 2\n",
      "predicting: 1, true value: -1\n",
      "predicting: 0, true value: 0\n",
      "predicting: 0, true value: 1\n",
      "predicting: 0, true value: -2\n"
     ]
    }
   ],
   "source": [
    "X=np.matrix(X)\n",
    "y=np.array(y).ravel()\n",
    "count_correct=0\n",
    "for i in range(6):\n",
    "#     print(i)\n",
    "#     print(np.ravel(X[i,:]))\n",
    "    pred = model.bayes_prediction(np.ravel(X[1000*i,:]),X,y)\n",
    "    target = y[1000*i]\n",
    "    print(f'predicting: {pred}, true value: {target}')\n",
    "    if pred==target:\n",
    "        count_correct+=1"
   ]
  },
  {
   "cell_type": "markdown",
   "id": "801865fb",
   "metadata": {},
   "source": [
    "To measure the performance of the data, we calculate the probablity of success."
   ]
  },
  {
   "cell_type": "code",
   "execution_count": 8,
   "id": "cf45488e",
   "metadata": {},
   "outputs": [
    {
     "name": "stdout",
     "output_type": "stream",
     "text": [
      "0.05\n"
     ]
    }
   ],
   "source": [
    "print(count_correct/20)"
   ]
  },
  {
   "cell_type": "markdown",
   "id": "b4cc8458",
   "metadata": {},
   "source": [
    "The accuracy of the model is very low. This means that the not a high connection between word choice and political alignment. "
   ]
  }
 ],
 "metadata": {
  "kernelspec": {
   "display_name": "Python 3 (ipykernel)",
   "language": "python",
   "name": "python3"
  },
  "language_info": {
   "codemirror_mode": {
    "name": "ipython",
    "version": 3
   },
   "file_extension": ".py",
   "mimetype": "text/x-python",
   "name": "python",
   "nbconvert_exporter": "python",
   "pygments_lexer": "ipython3",
   "version": "3.9.12"
  }
 },
 "nbformat": 4,
 "nbformat_minor": 5
}
